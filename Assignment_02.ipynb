{
  "nbformat": 4,
  "nbformat_minor": 0,
  "metadata": {
    "colab": {
      "provenance": []
    },
    "kernelspec": {
      "name": "python3",
      "display_name": "Python 3"
    },
    "language_info": {
      "name": "python"
    }
  },
  "cells": [
    {
      "cell_type": "markdown",
      "source": [
        "Name = Prashanth CN\n",
        ",Assignment = 02"
      ],
      "metadata": {
        "id": "pb2UPG9XYpV1"
      }
    },
    {
      "cell_type": "markdown",
      "source": [
        "## Part 1: Lists"
      ],
      "metadata": {
        "id": "BeK87_9IZBGP"
      }
    },
    {
      "cell_type": "markdown",
      "source": [
        "## 1)Creating and accessing of elements from a list"
      ],
      "metadata": {
        "id": "E1ug93eBZwZT"
      }
    },
    {
      "cell_type": "code",
      "source": [
        "fruits = [\"apple\",\"banana\",\"orange\",\"mango\",\"watermilon\"]\n",
        "print(fruits[1],fruits[3])"
      ],
      "metadata": {
        "colab": {
          "base_uri": "https://localhost:8080/"
        },
        "id": "RO9oYtFVITsZ",
        "outputId": "f56c3ec5-98a0-4af2-8232-e2662f4a4b45"
      },
      "execution_count": null,
      "outputs": [
        {
          "output_type": "stream",
          "name": "stdout",
          "text": [
            "banana mango\n"
          ]
        }
      ]
    },
    {
      "cell_type": "markdown",
      "source": [
        "## 2).Modifying a list"
      ],
      "metadata": {
        "id": "3XgEbv6vZLSS"
      }
    },
    {
      "cell_type": "code",
      "source": [
        "fruits = [\"apple\",\"banana\",\"orange\",\"mango\",\"watermilon\"]\n",
        "fruits.append(\"grapes\")\n",
        "print(fruits)\n",
        "fruits.remove(\"orange\")\n",
        "print(fruits)\n",
        "fruits.insert(2,\"strawberry\")\n",
        "print(fruits)\n",
        "fruits.remove(\"grapes\")\n",
        "print(fruits)"
      ],
      "metadata": {
        "colab": {
          "base_uri": "https://localhost:8080/"
        },
        "id": "DlTvRBWrWkZ0",
        "outputId": "d0ba39e0-3c9c-4897-a10a-efa088a60142"
      },
      "execution_count": null,
      "outputs": [
        {
          "output_type": "stream",
          "name": "stdout",
          "text": [
            "['apple', 'banana', 'orange', 'mango', 'watermilon', 'grapes']\n",
            "['apple', 'banana', 'mango', 'watermilon', 'grapes']\n",
            "['apple', 'banana', 'strawberry', 'mango', 'watermilon', 'grapes']\n",
            "['apple', 'banana', 'strawberry', 'mango', 'watermilon']\n"
          ]
        }
      ]
    },
    {
      "cell_type": "markdown",
      "source": [
        "## 3).List Methods"
      ],
      "metadata": {
        "id": "WPZO2SqkZTzy"
      }
    },
    {
      "cell_type": "code",
      "source": [
        "l= [\"apple\",\"banana\",\"orange\",\"mango\",\"apple\",\"watermilon\",\"apple\"]\n",
        "print(l)\n",
        "l.reverse()\n",
        "print(l)\n",
        "count_of_apple = l.count(\"apple\")\n",
        "print(count_of_apple)"
      ],
      "metadata": {
        "colab": {
          "base_uri": "https://localhost:8080/"
        },
        "id": "QOaZSGSPcTmS",
        "outputId": "028b0db9-22bd-4867-9064-65ba10be840c"
      },
      "execution_count": null,
      "outputs": [
        {
          "output_type": "stream",
          "name": "stdout",
          "text": [
            "['apple', 'banana', 'orange', 'mango', 'apple', 'watermilon', 'apple']\n",
            "['apple', 'watermilon', 'apple', 'mango', 'orange', 'banana', 'apple']\n",
            "3\n"
          ]
        }
      ]
    },
    {
      "cell_type": "markdown",
      "source": [
        "## Part 2 : Tuples"
      ],
      "metadata": {
        "id": "GFn2UCXmZc-F"
      }
    },
    {
      "cell_type": "markdown",
      "source": [
        "## 1).Create and access elements"
      ],
      "metadata": {
        "id": "V5Fj6tsVZfKy"
      }
    },
    {
      "cell_type": "code",
      "source": [
        "Tuple = (10,20,30,40,50)\n",
        "print(Tuple[0])\n",
        "print(Tuple[4])"
      ],
      "metadata": {
        "colab": {
          "base_uri": "https://localhost:8080/"
        },
        "id": "GHypIRflehJK",
        "outputId": "6183da00-8822-4b31-8e77-25c1364e96a8"
      },
      "execution_count": null,
      "outputs": [
        {
          "output_type": "stream",
          "name": "stdout",
          "text": [
            "10\n",
            "50\n"
          ]
        }
      ]
    },
    {
      "cell_type": "markdown",
      "source": [
        "## 2).Immutable nature of tuples"
      ],
      "metadata": {
        "id": "oWV5J7bIZ1ro"
      }
    },
    {
      "cell_type": "code",
      "source": [
        "Tuple = (10,20,30,40,50)\n",
        "Tuple[1] = 25\n",
        "print(Tuple)"
      ],
      "metadata": {
        "colab": {
          "base_uri": "https://localhost:8080/",
          "height": 176
        },
        "id": "WNnrcG4-iOLz",
        "outputId": "168c0243-f9e4-4e36-f92e-800cc776f24e"
      },
      "execution_count": null,
      "outputs": [
        {
          "output_type": "error",
          "ename": "TypeError",
          "evalue": "'tuple' object does not support item assignment",
          "traceback": [
            "\u001b[0;31m---------------------------------------------------------------------------\u001b[0m",
            "\u001b[0;31mTypeError\u001b[0m                                 Traceback (most recent call last)",
            "\u001b[0;32m<ipython-input-52-f88475bde29e>\u001b[0m in \u001b[0;36m<cell line: 2>\u001b[0;34m()\u001b[0m\n\u001b[1;32m      1\u001b[0m \u001b[0mTuple\u001b[0m \u001b[0;34m=\u001b[0m \u001b[0;34m(\u001b[0m\u001b[0;36m10\u001b[0m\u001b[0;34m,\u001b[0m\u001b[0;36m20\u001b[0m\u001b[0;34m,\u001b[0m\u001b[0;36m30\u001b[0m\u001b[0;34m,\u001b[0m\u001b[0;36m40\u001b[0m\u001b[0;34m,\u001b[0m\u001b[0;36m50\u001b[0m\u001b[0;34m)\u001b[0m\u001b[0;34m\u001b[0m\u001b[0;34m\u001b[0m\u001b[0m\n\u001b[0;32m----> 2\u001b[0;31m \u001b[0mTuple\u001b[0m\u001b[0;34m[\u001b[0m\u001b[0;36m1\u001b[0m\u001b[0;34m]\u001b[0m \u001b[0;34m=\u001b[0m \u001b[0;36m25\u001b[0m\u001b[0;34m\u001b[0m\u001b[0;34m\u001b[0m\u001b[0m\n\u001b[0m\u001b[1;32m      3\u001b[0m \u001b[0mprint\u001b[0m\u001b[0;34m(\u001b[0m\u001b[0mTuple\u001b[0m\u001b[0;34m)\u001b[0m\u001b[0;34m\u001b[0m\u001b[0;34m\u001b[0m\u001b[0m\n",
            "\u001b[0;31mTypeError\u001b[0m: 'tuple' object does not support item assignment"
          ]
        }
      ]
    },
    {
      "cell_type": "markdown",
      "source": [
        "## 3).Tuple Operation"
      ],
      "metadata": {
        "id": "dwQvht3AZ_a7"
      }
    },
    {
      "cell_type": "code",
      "source": [
        "num=(10,20,30,40,50)\n",
        "a,b,c,d,e=num #assigning the values of the tuples to 5 different variables\n",
        "print(\"a=\",a)\n",
        "print(\"b=\",b)\n",
        "print(\"c=\",c)\n",
        "print(\"d=\",d)\n",
        "print(\"e=\",e)"
      ],
      "metadata": {
        "colab": {
          "base_uri": "https://localhost:8080/"
        },
        "id": "aN6Mj_YjaDRE",
        "outputId": "b222031b-6a8b-457c-e27b-e44fd202a4fe"
      },
      "execution_count": 1,
      "outputs": [
        {
          "output_type": "stream",
          "name": "stdout",
          "text": [
            "a= 10\n",
            "b= 20\n",
            "c= 30\n",
            "d= 40\n",
            "e= 50\n"
          ]
        }
      ]
    },
    {
      "cell_type": "markdown",
      "source": [
        "## Part 3: Dictionaries"
      ],
      "metadata": {
        "id": "c_-SA3I6aNIr"
      }
    },
    {
      "cell_type": "markdown",
      "source": [
        "## 1).Create and access elements\n"
      ],
      "metadata": {
        "id": "n1aLnFbSalvq"
      }
    },
    {
      "cell_type": "code",
      "source": [
        "dict = {\"name\" :\"john\",\"age\" :\"20\",\"subjects\": [\"math\",\"physics\",\"chemistry\"]}\n",
        "print(dict[\"age\"])"
      ],
      "metadata": {
        "colab": {
          "base_uri": "https://localhost:8080/"
        },
        "id": "aA4rA33yitEc",
        "outputId": "c2cb6fa1-9201-4566-f17f-9e3f23cccdb2"
      },
      "execution_count": 5,
      "outputs": [
        {
          "output_type": "stream",
          "name": "stdout",
          "text": [
            "20\n"
          ]
        }
      ]
    },
    {
      "cell_type": "markdown",
      "source": [
        "## 2).Modify the dictionary"
      ],
      "metadata": {
        "id": "WGGa-Y3ibYeM"
      }
    },
    {
      "cell_type": "code",
      "source": [
        "dict={\"name\":\"john\",\"age\":\"20\",\"subject\":[\"math\",\"physics\",\"chemistry\"]}\n",
        "dict[\"grade\"]=\"A\"\n",
        "dict[\"age\"]=21\n",
        "dict.pop(\"subject\")\n",
        "print(dict)\n",
        ""
      ],
      "metadata": {
        "id": "sSMxf6izjuyQ",
        "colab": {
          "base_uri": "https://localhost:8080/"
        },
        "outputId": "1fc416ed-ded9-4fd9-8cb6-2f426f2bd2a8"
      },
      "execution_count": 8,
      "outputs": [
        {
          "output_type": "stream",
          "name": "stdout",
          "text": [
            "{'name': 'john', 'age': 21, 'grade': 'A'}\n"
          ]
        }
      ]
    },
    {
      "cell_type": "markdown",
      "source": [
        "## 3).Dictionary Methods"
      ],
      "metadata": {
        "id": "mGGT4yqRb9Y3"
      }
    },
    {
      "cell_type": "code",
      "source": [
        "dict_2={'name': 'john', 'age': 21, 'grade': 'A'}\n",
        "print(dict_2.keys())\n",
        "print(dict_2.values())"
      ],
      "metadata": {
        "colab": {
          "base_uri": "https://localhost:8080/"
        },
        "id": "oDFIzql5bmsv",
        "outputId": "8ebf8174-5ee4-4019-a4d7-85fb02e1dd81"
      },
      "execution_count": 9,
      "outputs": [
        {
          "output_type": "stream",
          "name": "stdout",
          "text": [
            "dict_keys(['name', 'age', 'grade'])\n",
            "dict_values(['john', 21, 'A'])\n"
          ]
        }
      ]
    },
    {
      "cell_type": "code",
      "source": [],
      "metadata": {
        "id": "u8HJYoF9cGOg"
      },
      "execution_count": null,
      "outputs": []
    }
  ]
}